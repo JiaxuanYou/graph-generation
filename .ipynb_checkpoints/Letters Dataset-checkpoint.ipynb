{
 "cells": [
  {
   "cell_type": "code",
   "execution_count": 1,
   "metadata": {
    "collapsed": true
   },
   "outputs": [],
   "source": [
    "# Fun some setup for the project\n",
    "# Silence annoying pytorch deprecated warnings\n",
    "import warnings\n",
    "warnings.filterwarnings(\"ignore\")\n",
    "\n",
    "import matplotlib.pyplot as plt\n",
    "from eval_nll import *\n",
    "import numpy as np\n",
    "%matplotlib inline\n",
    "\n",
    "# for auto-reloading extenrnal modules\n",
    "# see http://stackoverflow.com/questions/1907993/autoreload-of-modules-in-ipython\n",
    "%load_ext autoreload\n",
    "%autoreload 2"
   ]
  },
  {
   "cell_type": "markdown",
   "metadata": {},
   "source": [
    "# Letter_low Dataset Notebook. Treat Letter class 1 (letter N) as the normal dataset and other letters as anomalous"
   ]
  },
  {
   "cell_type": "code",
   "execution_count": 2,
   "metadata": {
    "collapsed": true
   },
   "outputs": [],
   "source": [
    "nll_dir = 'nll/Letter-low_1'"
   ]
  },
  {
   "cell_type": "code",
   "execution_count": null,
   "metadata": {
    "collapsed": true
   },
   "outputs": [],
   "source": [
    "# Step 1\n",
    "# Load the training and test nll predictions to test generalization\n",
    "train_nlls = load_avg_nlls(nll_dir, 'train')\n",
    "test_nlls = load_avg_nlls(nll_dir, 'test')\n",
    "\n",
    "# Plot distribtutions\n",
    "fig, ax_compare = compare_dist([train_nlls, test_nlls], ['Letter-low_1 Train', 'Letter-low_1 Test'], 'Train vs. Test Distributions')"
   ]
  }
 ],
 "metadata": {
  "kernelspec": {
   "display_name": "VPython",
   "language": "python",
   "name": "vpython"
  },
  "language_info": {
   "codemirror_mode": {
    "name": "ipython",
    "version": 2
   },
   "file_extension": ".py",
   "mimetype": "text/x-python",
   "name": "python",
   "nbconvert_exporter": "python",
   "pygments_lexer": "ipython2",
   "version": "2.7.13"
  }
 },
 "nbformat": 4,
 "nbformat_minor": 2
}
