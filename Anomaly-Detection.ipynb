{
 "cells": [
  {
   "cell_type": "markdown",
   "metadata": {},
   "source": [
    "# Notebook to Analyze the Efficacy of Generative Models for Anomaly Detection\n",
    "\n",
    "In this notebook we will look to use different generative models on graphs to learn distributions over normal graphs and hopefully detect some anomalies. We specifically start our experimentation looking at the GraphRNN framework implemented by the SNAP group"
   ]
  },
  {
   "cell_type": "code",
   "execution_count": 1,
   "metadata": {},
   "outputs": [
    {
     "name": "stdout",
     "output_type": "stream",
     "text": [
      "CUDA 1\n",
      "CUDA Available: True\n"
     ]
    }
   ],
   "source": [
    "# Fun some setup for the project\n",
    "# Silence annoying pytorch deprecated warnings\n",
    "import warnings\n",
    "warnings.filterwarnings(\"ignore\")\n",
    "\n",
    "from train import *\n",
    "%matplotlib inline\n",
    "\n",
    "device = torch.device('cuda:1' if torch.cuda.is_available() else 'cpu')\n",
    "\n",
    "# All necessary arguments are defined in args.py\n",
    "args = Args()\n",
    "os.environ['CUDA_VISIBLE_DEVICES'] = str(args.cuda)\n",
    "print('CUDA', args.cuda)\n",
    "print ('CUDA Available:', torch.cuda.is_available())"
   ]
  },
  {
   "cell_type": "code",
   "execution_count": 27,
   "metadata": {},
   "outputs": [],
   "source": [
    "# Set the type of graph that we want to evaluate the log likelihoods of\n",
    "args.change_dataset(\"enzymes_small\")"
   ]
  },
  {
   "cell_type": "code",
   "execution_count": 28,
   "metadata": {},
   "outputs": [
    {
     "name": "stdout",
     "output_type": "stream",
     "text": [
      "Loading graph dataset: ENZYMES\n",
      "Loaded\n"
     ]
    }
   ],
   "source": [
    "# Load the graph data - Consider using presaved datasets! with graph load list\n",
    "graphs = create_graphs.create(args)\n",
    "\n",
    "# Save this for later testing of different datasets to allow for \n",
    "# compatability\n",
    "max_prev_node = args.max_prev_node\n",
    "\n",
    "# split datasets\n",
    "random.seed(123)\n",
    "shuffle(graphs)\n",
    "graphs_len = len(graphs)\n",
    "graphs_test = graphs[int(0.8 * graphs_len):]\n",
    "graphs_train = graphs[0:int(0.8*graphs_len)]\n",
    "graphs_validate = graphs[0:int(0.2*graphs_len)]"
   ]
  },
  {
   "cell_type": "code",
   "execution_count": 29,
   "metadata": {},
   "outputs": [
    {
     "name": "stdout",
     "output_type": "stream",
     "text": [
      "graph_validate_len 15.666666666666666\n",
      "graph_test_len 15.136363636363637\n",
      "total graph num: 109, training set: 87\n",
      "max number node: 20\n",
      "max/min number edge: 49; 17\n",
      "max previous node: 15\n"
     ]
    }
   ],
   "source": [
    "# Display some graph stats\n",
    "graph_validate_len = 0\n",
    "for graph in graphs_validate:\n",
    "    graph_validate_len += graph.number_of_nodes()\n",
    "graph_validate_len /= len(graphs_validate)\n",
    "print('graph_validate_len', graph_validate_len)\n",
    "\n",
    "graph_test_len = 0\n",
    "for graph in graphs_test:\n",
    "    graph_test_len += graph.number_of_nodes()\n",
    "graph_test_len /= len(graphs_test)\n",
    "print('graph_test_len', graph_test_len)\n",
    "\n",
    "\n",
    "args.max_num_node = max([graphs[i].number_of_nodes() for i in range(len(graphs))])\n",
    "max_num_edge = max([graphs[i].number_of_edges() for i in range(len(graphs))])\n",
    "min_num_edge = min([graphs[i].number_of_edges() for i in range(len(graphs))])\n",
    "\n",
    "# show graphs statistics\n",
    "print('total graph num: {}, training set: {}'.format(len(graphs),len(graphs_train)))\n",
    "print('max number node: {}'.format(args.max_num_node))\n",
    "print('max/min number edge: {}; {}'.format(max_num_edge,min_num_edge))\n",
    "print('max previous node: {}'.format(args.max_prev_node))"
   ]
  },
  {
   "cell_type": "code",
   "execution_count": 30,
   "metadata": {},
   "outputs": [],
   "source": [
    "# Initialize the dataset and dataloader for analyzing the nlls. \n",
    "# Note that we use batch_size = 1 because we want the nll for each\n",
    "# data point not an average across a batch.\n",
    "# We should also consider using Graph_sequence_Sampler_pytorch_nll.\n",
    "# This sampler expands the size of the dataset by for each graph \n",
    "# creating many different bfs permutations. The idea behind this sampler\n",
    "# is to test the models permutation invariance. \n",
    "\n",
    "train_dataset = Graph_sequence_sampler_pytorch_rand(graphs_train,max_prev_node=args.max_prev_node,max_num_node=args.max_num_node)\n",
    "train_loader = torch.utils.data.DataLoader(train_dataset, batch_size=1, num_workers=args.num_workers)\n",
    "\n",
    "test_dataset = Graph_sequence_sampler_pytorch_rand(graphs_test, max_prev_node=args.max_prev_node,max_num_node=args.max_num_node)\n",
    "test_loader = torch.utils.data.DataLoader(test_dataset, batch_size=1, num_workers=args.num_workers)\n",
    "\n"
   ]
  },
  {
   "cell_type": "code",
   "execution_count": 20,
   "metadata": {},
   "outputs": [],
   "source": [
    "# Model initialization\n",
    "# Using GraphRNN\n",
    "\n",
    "rnn = GRU_plain(input_size=args.max_prev_node, embedding_size=args.embedding_size_rnn,\n",
    "                        hidden_size=args.hidden_size_rnn, num_layers=args.num_layers, has_input=True,\n",
    "                        has_output=True, output_size=args.hidden_size_rnn_output).to(device)\n",
    "output = GRU_plain(input_size=1, embedding_size=args.embedding_size_rnn_output,\n",
    "                        hidden_size=args.hidden_size_rnn_output, num_layers=args.num_layers, has_input=True,\n",
    "                        has_output=True, output_size=1).to(device)"
   ]
  },
  {
   "cell_type": "code",
   "execution_count": 43,
   "metadata": {},
   "outputs": [],
   "source": [
    "# This function encapsulates the process of getting the loglikelihoods\n",
    "# of the data\n",
    "def calc_nll(args, data_loader, rnn, output, max_iter=100, load_epoch=3000, train_dataset=None):\n",
    "    \"\"\"\n",
    "        For now the max_iter is not used. However, the idea in the future\n",
    "        is to do max_iter loops of calculating the nlls of the data. Since\n",
    "        the model is permutation dependent, namely we use a random bfs ordering\n",
    "        for each graph when training/testing, we should do many iterations to\n",
    "        test the robustness of the model to permutation. This could also be\n",
    "        addressed using nll data_loader. \n",
    "    \"\"\"\n",
    "    # Set the epoch we are loading from\n",
    "    args.load_epoch = load_epoch\n",
    "    if train_dataset:\n",
    "        fname = args.note + '_' + train_dataset + '_' + str(args.num_layers) + '_' + str(args.hidden_size_rnn) + '_'\n",
    "        \n",
    "        fname_rnn = args.model_save_path + fname + 'lstm_' + str(args.load_epoch) + '.dat'\n",
    "        fname_out = args.model_save_path + fname + 'output_' + str(args.load_epoch) + '.dat'\n",
    "    else:\n",
    "        fname_rnn = args.model_save_path + args.fname + 'lstm_' + str(args.load_epoch) + '.dat'\n",
    "        fname_out = args.model_save_path + args.fname + 'output_' + str(args.load_epoch) + '.dat'\n",
    "    \n",
    "    rnn.load_state_dict(torch.load(fname_rnn))\n",
    "    output.load_state_dict(torch.load(fname_out))\n",
    "\n",
    "    epoch = args.load_epoch\n",
    "    print('model loaded!, epoch: {}'.format(args.load_epoch))\n",
    "\n",
    "    # Calculate nll over dataset max_iter times,\n",
    "    # to test robustness to permutations of the bfs\n",
    "    # ordered adjacency matrix for the same graphs.\n",
    "    nlls = []\n",
    "    for i in range(max_iter):\n",
    "        nll = rnn_data_nll(args, rnn, output, data_loader)\n",
    "        # Logging info\n",
    "        # May want to also include std statistics\n",
    "        if (i + 1) % 10 == 0:\n",
    "            print (\"Iteration:\", i + 1)\n",
    "            print (\"Average Nll:\", np.mean(nll))\n",
    "            \n",
    "        nlls.extend(nll)\n",
    "        \n",
    "    return nlls"
   ]
  },
  {
   "cell_type": "code",
   "execution_count": 8,
   "metadata": {},
   "outputs": [
    {
     "name": "stdout",
     "output_type": "stream",
     "text": [
      "model loaded!, epoch: 3000\n",
      "Iteration: 10\n",
      "Average Nll: 26.69428232346458\n",
      "Iteration: 20\n",
      "Average Nll: 27.047120258725922\n",
      "Iteration: 30\n",
      "Average Nll: 25.205868929282\n",
      "Iteration: 40\n",
      "Average Nll: 25.27977887515364\n",
      "Iteration: 50\n",
      "Average Nll: 25.905436362343274\n",
      "Iteration: 60\n",
      "Average Nll: 26.9986080301219\n",
      "Iteration: 70\n",
      "Average Nll: 25.669270778524464\n",
      "Iteration: 80\n",
      "Average Nll: 25.272927196546533\n",
      "Iteration: 90\n",
      "Average Nll: 25.658811032086952\n",
      "Iteration: 100\n",
      "Average Nll: 25.15561975281814\n"
     ]
    },
    {
     "data": {
      "text/plain": [
       "<matplotlib.axes._subplots.AxesSubplot at 0x7fe922279fd0>"
      ]
     },
     "execution_count": 8,
     "metadata": {},
     "output_type": "execute_result"
    },
    {
     "data": {
      "image/png": "[encoded data removed]",
      "text/plain": [
       "<Figure size 432x288 with 1 Axes>"
      ]
     },
     "metadata": {
      "needs_background": "light"
     },
     "output_type": "display_data"
    }
   ],
   "source": [
    "# Let's do some analysis on the training data\n",
    "nlls = calc_nll(args, train_loader, rnn, output)\n",
    "plt.figure()\n",
    "sns.distplot(nlls, kde=True)\n",
    "#plt.xlim([0, 55])"
   ]
  },
  {
   "cell_type": "code",
   "execution_count": 9,
   "metadata": {},
   "outputs": [
    {
     "name": "stdout",
     "output_type": "stream",
     "text": [
      "model loaded!, epoch: 3000\n",
      "Iteration: 10\n",
      "Average Nll: 44.381026614796035\n",
      "Iteration: 20\n",
      "Average Nll: 44.37866774472323\n",
      "Iteration: 30\n",
      "Average Nll: 41.15060147372159\n",
      "Iteration: 40\n",
      "Average Nll: 46.09560658714988\n",
      "Iteration: 50\n",
      "Average Nll: 39.58878378434615\n",
      "Iteration: 60\n",
      "Average Nll: 45.46509122848511\n",
      "Iteration: 70\n",
      "Average Nll: 41.3623384995894\n",
      "Iteration: 80\n",
      "Average Nll: 43.30077492107045\n",
      "Iteration: 90\n",
      "Average Nll: 44.150635805996984\n",
      "Iteration: 100\n",
      "Average Nll: 38.753051324324176\n"
     ]
    },
    {
     "data": {
      "text/plain": [
       "<matplotlib.axes._subplots.AxesSubplot at 0x7fe91c20feb8>"
      ]
     },
     "execution_count": 9,
     "metadata": {},
     "output_type": "execute_result"
    },
    {
     "data": {
      "image/png": "[encoded data removed]",
      "text/plain": [
       "<Figure size 432x288 with 1 Axes>"
      ]
     },
     "metadata": {
      "needs_background": "light"
     },
     "output_type": "display_data"
    }
   ],
   "source": [
    "# Analysis of the test data set nlls.\n",
    "nlls = calc_nll(args, test_loader, rnn, output)\n",
    "plt.figure()\n",
    "sns.distplot(nlls, kde=True)"
   ]
  },
  {
   "cell_type": "code",
   "execution_count": 31,
   "metadata": {},
   "outputs": [],
   "source": [
    "# Now let's try using a different dataset on the same GraphRNN\n",
    "# trained on the enzyemes small dataset. By plotting the distribution\n",
    "# over the nlls of this test set from a different family, hopefully\n",
    "# we can see the success of the generative model\n",
    "args_ladder = Args()\n",
    "args_ladder.change_dataset(\"ladder_small\")"
   ]
  },
  {
   "cell_type": "code",
   "execution_count": 37,
   "metadata": {},
   "outputs": [
    {
     "name": "stdout",
     "output_type": "stream",
     "text": [
      "Average num nodes 12.0\n",
      "total graph num: 9\n",
      "max number node: 20\n",
      "max/min number edge: 28; 4\n",
      "max previous node: 10\n"
     ]
    }
   ],
   "source": [
    "# Load the graph data - Consider using presaved datasets! with graph load list\n",
    "graphs_ladder = create_graphs.create(args_ladder)\n",
    "\n",
    "# We don't need to split the dataset. We just want to test it\n",
    "random.seed(123)\n",
    "shuffle(graphs_ladder)\n",
    "graphs_len = len(graphs_ladder)\n",
    "\n",
    "# Display some graph stats\n",
    "graph_node_avg = 0\n",
    "for graph in graphs_ladder:\n",
    "    graph_node_avg += graph.number_of_nodes()\n",
    "graph_node_avg /= graphs_len\n",
    "print('Average num nodes', graph_node_avg)\n",
    "\n",
    "args_ladder.max_num_node = max([graphs_ladder[i].number_of_nodes() for i in range(graphs_len)])\n",
    "max_num_edge = max([graphs_ladder[i].number_of_edges() for i in range(graphs_len)])\n",
    "min_num_edge = min([graphs_ladder[i].number_of_edges() for i in range(graphs_len)])\n",
    "\n",
    "# show graphs statistics\n",
    "print('total graph num: {}'.format(graphs_len))\n",
    "print('max number node: {}'.format(args_ladder.max_num_node))\n",
    "print('max/min number edge: {}; {}'.format(max_num_edge,min_num_edge))\n",
    "print('max previous node: {}'.format(args_ladder.max_prev_node))"
   ]
  },
  {
   "cell_type": "code",
   "execution_count": 38,
   "metadata": {},
   "outputs": [],
   "source": [
    "# Create dataset and dataloader object for the out of distribution ladder dataset\n",
    "# Note that instead of passing in args.max_prev_node, we pass in the saved max_prev_node\n",
    "# saved specifically for the enzyme dataset - hack to allow for GraphRNN to work on any dataset\n",
    "ladder_dataset = Graph_sequence_sampler_pytorch_rand(graphs_ladder,max_prev_node=max_prev_node,max_num_node=args_ladder.max_num_node)\n",
    "ladder_loader = torch.utils.data.DataLoader(ladder_dataset, batch_size=1, num_workers=args_ladder.num_workers)\n"
   ]
  },
  {
   "cell_type": "code",
   "execution_count": 34,
   "metadata": {},
   "outputs": [
    {
     "name": "stdout",
     "output_type": "stream",
     "text": [
      "model loaded!, epoch: 3000\n",
      "Iteration: 10\n",
      "Average Nll: 85.87466091579861\n",
      "Iteration: 20\n",
      "Average Nll: 77.99962425231934\n",
      "Iteration: 30\n",
      "Average Nll: 76.96146604749892\n",
      "Iteration: 40\n",
      "Average Nll: 80.17995240953233\n",
      "Iteration: 50\n",
      "Average Nll: 83.64858542548285\n",
      "Iteration: 60\n",
      "Average Nll: 86.85916731092665\n",
      "Iteration: 70\n",
      "Average Nll: 81.2029488881429\n",
      "Iteration: 80\n",
      "Average Nll: 88.22650994194879\n",
      "Iteration: 90\n",
      "Average Nll: 75.60993745591905\n",
      "Iteration: 100\n",
      "Average Nll: 76.05505794949002\n"
     ]
    },
    {
     "data": {
      "text/plain": [
       "<matplotlib.axes._subplots.AxesSubplot at 0x7fc9c1a11438>"
      ]
     },
     "execution_count": 34,
     "metadata": {},
     "output_type": "execute_result"
    },
    {
     "data": {
      "image/png": "[encoded data removed]",
      "text/plain": [
       "<Figure size 432x288 with 1 Axes>"
      ]
     },
     "metadata": {
      "needs_background": "light"
     },
     "output_type": "display_data"
    }
   ],
   "source": [
    "# Let's see how the nlls of the ladder graphs compare to \n",
    "# the trained on enzymes\n",
    "nlls = calc_nll(args_ladder, ladder_loader, rnn, output, train_dataset=\"enzymes_small\")\n",
    "plt.figure()\n",
    "sns.distplot(nlls, kde=True)"
   ]
  },
  {
   "cell_type": "code",
   "execution_count": 39,
   "metadata": {},
   "outputs": [],
   "source": [
    "# Now let's try using a different dataset on the same GraphRNN\n",
    "# trained on the enzyemes small dataset. By plotting the distribution\n",
    "# over the nlls of this test set from a different family, hopefully\n",
    "# we can see the success of the generative model\n",
    "args_caveman = Args()\n",
    "args_caveman.change_dataset(\"caveman_small\")"
   ]
  },
  {
   "cell_type": "code",
   "execution_count": 41,
   "metadata": {},
   "outputs": [
    {
     "name": "stdout",
     "output_type": "stream",
     "text": [
      "Average num nodes 16.0\n",
      "total graph num: 100\n",
      "max number node: 20\n",
      "max/min number edge: 78; 21\n",
      "max previous node: 20\n"
     ]
    }
   ],
   "source": [
    "# Load the graph data - Consider using presaved datasets! with graph load list\n",
    "graphs_caveman = create_graphs.create(args_caveman)\n",
    "\n",
    "# We don't need to split the dataset. We just want to test it\n",
    "random.seed(123)\n",
    "shuffle(graphs_caveman)\n",
    "graphs_len = len(graphs_caveman)\n",
    "\n",
    "# Display some graph stats\n",
    "graph_node_avg = 0\n",
    "for graph in graphs_caveman:\n",
    "    graph_node_avg += graph.number_of_nodes()\n",
    "graph_node_avg /= graphs_len\n",
    "print('Average num nodes', graph_node_avg)\n",
    "\n",
    "args_caveman.max_num_node = max([graphs_caveman[i].number_of_nodes() for i in range(graphs_len)])\n",
    "max_num_edge = max([graphs_caveman[i].number_of_edges() for i in range(graphs_len)])\n",
    "min_num_edge = min([graphs_caveman[i].number_of_edges() for i in range(graphs_len)])\n",
    "\n",
    "# show graphs statistics\n",
    "print('total graph num: {}'.format(graphs_len))\n",
    "print('max number node: {}'.format(args_caveman.max_num_node))\n",
    "print('max/min number edge: {}; {}'.format(max_num_edge,min_num_edge))\n",
    "print('max previous node: {}'.format(args_caveman.max_prev_node))"
   ]
  },
  {
   "cell_type": "code",
   "execution_count": 42,
   "metadata": {},
   "outputs": [],
   "source": [
    "# Create dataset and dataloader object for the out of distribution ladder dataset\n",
    "# Note that instead of passing in args.max_prev_node, we pass in the saved max_prev_node\n",
    "# saved specifically for the enzyme dataset - hack to allow for GraphRNN to work on any dataset\n",
    "caveman_dataset = Graph_sequence_sampler_pytorch_rand(graphs_caveman,max_prev_node=max_prev_node,max_num_node=args_caveman.max_num_node)\n",
    "caveman_loader = torch.utils.data.DataLoader(caveman_dataset, batch_size=1, num_workers=args_caveman.num_workers)\n"
   ]
  },
  {
   "cell_type": "code",
   "execution_count": 44,
   "metadata": {},
   "outputs": [
    {
     "name": "stdout",
     "output_type": "stream",
     "text": [
      "model loaded!, epoch: 3000\n",
      "Iteration: 10\n",
      "Average Nll: 111.67992435455322\n",
      "Iteration: 20\n",
      "Average Nll: 118.95924066543579\n",
      "Iteration: 30\n",
      "Average Nll: 115.25308937072754\n",
      "Iteration: 40\n",
      "Average Nll: 116.73195655822754\n",
      "Iteration: 50\n",
      "Average Nll: 113.55894592285156\n",
      "Iteration: 60\n",
      "Average Nll: 116.2225887298584\n",
      "Iteration: 70\n",
      "Average Nll: 114.66553560256958\n",
      "Iteration: 80\n",
      "Average Nll: 117.23784170150756\n",
      "Iteration: 90\n",
      "Average Nll: 115.97136255264282\n",
      "Iteration: 100\n",
      "Average Nll: 116.40289325714112\n"
     ]
    },
    {
     "data": {
      "text/plain": [
       "<matplotlib.axes._subplots.AxesSubplot at 0x7fc9c273e080>"
      ]
     },
     "execution_count": 44,
     "metadata": {},
     "output_type": "execute_result"
    },
    {
     "data": {
      "image/png": "[encoded data removed]",
      "text/plain": [
       "<Figure size 432x288 with 1 Axes>"
      ]
     },
     "metadata": {
      "needs_background": "light"
     },
     "output_type": "display_data"
    }
   ],
   "source": [
    "# Let's see how the nlls of the caveman graphs compare to \n",
    "# the trained on enzymes\n",
    "nlls = calc_nll(args_caveman, caveman_loader, rnn, output, train_dataset=\"enzymes_small\")\n",
    "plt.figure()\n",
    "sns.distplot(nlls, kde=True)"
   ]
  },
  {
   "cell_type": "code",
   "execution_count": null,
   "metadata": {},
   "outputs": [],
   "source": []
  }
 ],
 "metadata": {
  "kernelspec": {
   "display_name": "newenv",
   "language": "python",
   "name": "newenv"
  },
  "language_info": {
   "codemirror_mode": {
    "name": "ipython",
    "version": 3
   },
   "file_extension": ".py",
   "mimetype": "text/x-python",
   "name": "python",
   "nbconvert_exporter": "python",
   "pygments_lexer": "ipython3",
   "version": "3.7.3"
  }
 },
 "nbformat": 4,
 "nbformat_minor": 2
}
