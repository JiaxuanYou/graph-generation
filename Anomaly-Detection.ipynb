{
 "cells": [
  {
   "cell_type": "markdown",
   "metadata": {},
   "source": [
    "# Notebook to Analyze the Efficacy of Generative Models for Anomaly Detection\n",
    "\n",
    "In this notebook we will look to use different generative models on graphs to learn distributions over normal graphs and hopefully detect some anomalies. We specifically start our experimentation looking at the GraphRNN framework implemented by the SNAP group"
   ]
  },
  {
   "cell_type": "code",
   "execution_count": 2,
   "metadata": {},
   "outputs": [
    {
     "name": "stdout",
     "output_type": "stream",
     "text": [
      "CUDA Available: True\n"
     ]
    }
   ],
   "source": [
    "# Fun some setup for the project\n",
    "# Silence annoying pytorch deprecated warnings\n",
    "import warnings\n",
    "warnings.filterwarnings(\"ignore\")\n",
    "\n",
    "from train import *\n",
    "%matplotlib inline\n",
    "\n",
    "device = torch.device('cuda:0' if torch.cuda.is_available() else 'cpu')\n",
    "\n",
    "# All necessary arguments are defined in args.py\n",
    "#args = Args()\n",
    "#os.environ['CUDA_VISIBLE_DEVICES'] = str(args.cuda)\n",
    "#print('CUDA', args.cuda)\n",
    "print ('CUDA Available:', torch.cuda.is_available())"
   ]
  },
  {
   "cell_type": "code",
   "execution_count": 3,
   "metadata": {},
   "outputs": [],
   "source": [
    "# Define a useful function for getting the dataset to test/analyze\n",
    "def get_graph_data(dataset, isModelDataset=False):\n",
    "    \"\"\"\n",
    "        Given a dataset name, loads in the graphs of that dataset.\n",
    "        Creates a specific argument object for that dataset to allow\n",
    "        for different datasets to be created.\n",
    "        \n",
    "        return: If isModelDataset: returns args, train, val, test split\n",
    "                else: returgn args, data\n",
    "    \"\"\"\n",
    "    args_data = Args()\n",
    "    args_data.change_dataset(dataset)\n",
    "    \n",
    "    # Load the graph data - Consider using presaved datasets! with graph load list\n",
    "    graphs = create_graphs.create(args_data)\n",
    "    graphs_len = len(graphs)\n",
    "    random.seed(123)\n",
    "    shuffle(graphs)\n",
    "\n",
    "    # Display some graph stats\n",
    "    graph_node_avg = 0\n",
    "    for graph in graphs:\n",
    "        graph_node_avg += graph.number_of_nodes()\n",
    "    graph_node_avg /= graphs_len\n",
    "    print('Average num nodes', graph_node_avg)\n",
    "\n",
    "    args_data.max_num_node = max([graphs[i].number_of_nodes() for i in range(graphs_len)])\n",
    "    max_num_edge = max([graphs[i].number_of_edges() for i in range(graphs_len)])\n",
    "    min_num_edge = min([graphs[i].number_of_edges() for i in range(graphs_len)])\n",
    "\n",
    "    # show graphs statistics\n",
    "    print('total graph num: {}'.format(graphs_len))\n",
    "    print('max number node: {}'.format(args_data.max_num_node))\n",
    "    print('max/min number edge: {}; {}'.format(max_num_edge,min_num_edge))\n",
    "    print('max previous node: {}'.format(args_data.max_prev_node))\n",
    "    \n",
    "    if isModelDataset:\n",
    "        # split datasets\n",
    "        graphs_len = len(graphs)\n",
    "        graphs_test = graphs[int(0.8 * graphs_len):]\n",
    "        graphs_train = graphs[0:int(0.8*graphs_len)]\n",
    "        graphs_validate = graphs[0:int(0.2*graphs_len)]\n",
    "        return args_data, graphs_train, graphs_validate, graphs_test\n",
    "    \n",
    "    return args_data, graphs\n",
    "          "
   ]
  },
  {
   "cell_type": "code",
   "execution_count": 4,
   "metadata": {},
   "outputs": [
    {
     "name": "stdout",
     "output_type": "stream",
     "text": [
      "Loading graph dataset: ENZYMES\n",
      "Loaded\n",
      "Average num nodes 15.81651376146789\n",
      "total graph num: 109\n",
      "max number node: 20\n",
      "max/min number edge: 49; 17\n",
      "max previous node: 15\n"
     ]
    }
   ],
   "source": [
    "# Generate the model datasets (i.e. the dataset used to train\n",
    "# the model - normal data)\n",
    "args_enzy, train_enzy, val_enzy, test_enzy = get_graph_data(\"enzymes_small\", isModelDataset=True)\n",
    "# Save the max_previous node to allow for model \n",
    "# compatability on future datasets\n",
    "max_prev_node = args_enzy.max_prev_node"
   ]
  },
  {
   "cell_type": "code",
   "execution_count": 5,
   "metadata": {},
   "outputs": [],
   "source": [
    "# Initialize the dataset and dataloader for analyzing the nlls. \n",
    "# Note that we use batch_size = 1 because we want the nll for each\n",
    "# data point not an average across a batch.\n",
    "# We should also consider using Graph_sequence_Sampler_pytorch_nll.\n",
    "# This sampler expands the size of the dataset by for each graph \n",
    "# creating many different bfs permutations. The idea behind this sampler\n",
    "# is to test the models permutation invariance. \n",
    "\n",
    "train_dataset = Graph_sequence_sampler_pytorch_rand(train_enzy,max_prev_node=args_enzy.max_prev_node,max_num_node=args_enzy.max_num_node)\n",
    "train_loader = torch.utils.data.DataLoader(train_dataset, batch_size=1, num_workers=args_enzy.num_workers)\n",
    "\n",
    "test_dataset = Graph_sequence_sampler_pytorch_rand(test_enzy, max_prev_node=args_enzy.max_prev_node,max_num_node=args_enzy.max_num_node)\n",
    "test_loader = torch.utils.data.DataLoader(test_dataset, batch_size=1, num_workers=args_enzy.num_workers)\n",
    "\n"
   ]
  },
  {
   "cell_type": "code",
   "execution_count": 6,
   "metadata": {},
   "outputs": [],
   "source": [
    "# Model initialization\n",
    "# Using GraphRNN\n",
    "\n",
    "rnn = GRU_plain(input_size=args_enzy.max_prev_node, embedding_size=args_enzy.embedding_size_rnn,\n",
    "                        hidden_size=args_enzy.hidden_size_rnn, num_layers=args_enzy.num_layers, has_input=True,\n",
    "                        has_output=True, output_size=args_enzy.hidden_size_rnn_output).to(device)\n",
    "output = GRU_plain(input_size=1, embedding_size=args_enzy.embedding_size_rnn_output,\n",
    "                        hidden_size=args_enzy.hidden_size_rnn_output, num_layers=args_enzy.num_layers, has_input=True,\n",
    "                        has_output=True, output_size=1).to(device)"
   ]
  },
  {
   "cell_type": "code",
   "execution_count": 7,
   "metadata": {},
   "outputs": [],
   "source": [
    "# This function encapsulates the process of getting the loglikelihoods\n",
    "# of the data\n",
    "def calc_nll(args, data_loader, rnn, output, max_iter=100, load_epoch=3000, train_dataset=None):\n",
    "    \"\"\"\n",
    "        For now the max_iter is not used. However, the idea in the future\n",
    "        is to do max_iter loops of calculating the nlls of the data. Since\n",
    "        the model is permutation dependent, namely we use a random bfs ordering\n",
    "        for each graph when training/testing, we should do many iterations to\n",
    "        test the robustness of the model to permutation. This could also be\n",
    "        addressed using nll data_loader. \n",
    "    \"\"\"\n",
    "    # Set the epoch we are loading from\n",
    "    args.load_epoch = load_epoch\n",
    "    if train_dataset:\n",
    "        fname = args.note + '_' + train_dataset + '_' + str(args.num_layers) + '_' + str(args.hidden_size_rnn) + '_'\n",
    "        fname_rnn = args.model_save_path + fname + 'lstm_' + str(args.load_epoch) + '.dat'\n",
    "        fname_out = args.model_save_path + fname + 'output_' + str(args.load_epoch) + '.dat'\n",
    "    else:\n",
    "        fname_rnn = args.model_save_path + args.fname + 'lstm_' + str(args.load_epoch) + '.dat'\n",
    "        fname_out = args.model_save_path + args.fname + 'output_' + str(args.load_epoch) + '.dat'\n",
    "    \n",
    "    print (fname_rnn)\n",
    "    rnn.load_state_dict(torch.load(fname_rnn))\n",
    "    output.load_state_dict(torch.load(fname_out))\n",
    "\n",
    "    epoch = args.load_epoch\n",
    "    print('model loaded!, epoch: {}'.format(args.load_epoch))\n",
    "\n",
    "    # Calculate nll over dataset max_iter times,\n",
    "    # to test robustness to permutations of the bfs\n",
    "    # ordered adjacency matrix for the same graphs.\n",
    "    nlls = []\n",
    "    for i in range(max_iter):\n",
    "        nll = rnn_data_nll(args, rnn, output, data_loader)\n",
    "        # Logging info\n",
    "        # May want to also include std statistics\n",
    "        if (i + 1) % 10 == 0:\n",
    "            print (\"Iteration:\", i + 1)\n",
    "            print (\"Average Nll:\", np.mean(nll))\n",
    "            \n",
    "        nlls.extend(nll)\n",
    "        \n",
    "    return nlls"
   ]
  },
  {
   "cell_type": "code",
   "execution_count": 8,
   "metadata": {},
   "outputs": [
    {
     "name": "stdout",
     "output_type": "stream",
     "text": [
      "./model_save/GraphRNN_RNN_enzymes_small_4_64_lstm_3000.dat\n",
      "model loaded!, epoch: 3000\n",
      "Iteration: 10\n",
      "Average Nll: 25.89893265428214\n",
      "Iteration: 20\n",
      "Average Nll: 25.995508511861164\n",
      "Iteration: 30\n",
      "Average Nll: 25.53121985512218\n",
      "Iteration: 40\n",
      "Average Nll: 26.43345241985102\n",
      "Iteration: 50\n",
      "Average Nll: 24.609570503234863\n",
      "Iteration: 60\n",
      "Average Nll: 25.610458330176343\n",
      "Iteration: 70\n",
      "Average Nll: 24.09825776089197\n",
      "Iteration: 80\n",
      "Average Nll: 26.885327163783984\n",
      "Iteration: 90\n",
      "Average Nll: 24.112449317142882\n",
      "Iteration: 100\n",
      "Average Nll: 25.809319304323743\n"
     ]
    },
    {
     "data": {
      "text/plain": [
       "<matplotlib.axes._subplots.AxesSubplot at 0x7f03c8ccbb00>"
      ]
     },
     "execution_count": 8,
     "metadata": {},
     "output_type": "execute_result"
    },
    {
     "data": {
      "image/png": "[encoded data removed]",
      "text/plain": [
       "<Figure size 432x288 with 1 Axes>"
      ]
     },
     "metadata": {
      "needs_background": "light"
     },
     "output_type": "display_data"
    }
   ],
   "source": [
    "# Let's do some analysis on the training data\n",
    "nlls = calc_nll(args_enzy, train_loader, rnn, output)\n",
    "plt.figure()\n",
    "sns.distplot(nlls, kde=True)\n",
    "#plt.xlim([0, 55])"
   ]
  },
  {
   "cell_type": "code",
   "execution_count": 12,
   "metadata": {},
   "outputs": [
    {
     "name": "stdout",
     "output_type": "stream",
     "text": [
      "./model_save/GraphRNN_RNN_enzymes_small_4_64_lstm_3000.dat\n",
      "model loaded!, epoch: 3000\n",
      "Iteration: 10\n",
      "Average Nll: 39.13575961373069\n",
      "Iteration: 20\n",
      "Average Nll: 44.725196838378906\n",
      "Iteration: 30\n",
      "Average Nll: 45.10948879068548\n",
      "Iteration: 40\n",
      "Average Nll: 43.44435388391668\n",
      "Iteration: 50\n",
      "Average Nll: 45.53799347444014\n",
      "Iteration: 60\n",
      "Average Nll: 45.756103385578506\n",
      "Iteration: 70\n",
      "Average Nll: 40.453648047013715\n",
      "Iteration: 80\n",
      "Average Nll: 41.18992983211171\n",
      "Iteration: 90\n",
      "Average Nll: 41.7457332611084\n",
      "Iteration: 100\n",
      "Average Nll: 40.228785341436215\n"
     ]
    },
    {
     "data": {
      "text/plain": [
       "<matplotlib.axes._subplots.AxesSubplot at 0x7f03c8cbcdd8>"
      ]
     },
     "execution_count": 12,
     "metadata": {},
     "output_type": "execute_result"
    },
    {
     "data": {
      "image/png": "[encoded data removed]",
      "text/plain": [
       "<Figure size 432x288 with 1 Axes>"
      ]
     },
     "metadata": {
      "needs_background": "light"
     },
     "output_type": "display_data"
    }
   ],
   "source": [
    "# Analysis of the test data set nlls.\n",
    "nlls = calc_nll(args_enzy, test_loader, rnn, output)\n",
    "plt.figure()\n",
    "sns.distplot(nlls, kde=True)"
   ]
  },
  {
   "cell_type": "code",
   "execution_count": 18,
   "metadata": {},
   "outputs": [
    {
     "name": "stdout",
     "output_type": "stream",
     "text": [
      "Average num nodes 12.0\n",
      "total graph num: 9\n",
      "max number node: 20\n",
      "max/min number edge: 28; 4\n",
      "max previous node: 10\n"
     ]
    }
   ],
   "source": [
    "# Now let's try using a different dataset on the same GraphRNN\n",
    "# trained on the enzyemes small dataset. By plotting the distribution\n",
    "# over the nlls of this test set from a different family, hopefully\n",
    "# we can see the success of the generative model\n",
    "args_ladder, graphs_ladder = get_graph_data(\"ladder_small\", isModelDataset=False)\n",
    "\n",
    "# Create dataset and dataloader object for the out of distribution ladder dataset\n",
    "# Note that instead of passing in args.max_prev_node, we pass in the saved max_prev_node\n",
    "# saved specifically for the enzyme dataset - hack to allow for GraphRNN to work on any dataset\n",
    "ladder_dataset = Graph_sequence_sampler_pytorch_rand(graphs_ladder,max_prev_node=max_prev_node,max_num_node=args_ladder.max_num_node)\n",
    "ladder_loader = torch.utils.data.DataLoader(ladder_dataset, batch_size=1, num_workers=args_ladder.num_workers)"
   ]
  },
  {
   "cell_type": "code",
   "execution_count": 15,
   "metadata": {},
   "outputs": [
    {
     "name": "stdout",
     "output_type": "stream",
     "text": [
      "./model_save/GraphRNN_RNN_enzymes_small_4_64_lstm_3000.dat\n",
      "model loaded!, epoch: 3000\n",
      "Iteration: 10\n",
      "Average Nll: 76.49963972303603\n",
      "Iteration: 20\n",
      "Average Nll: 79.44567320081923\n",
      "Iteration: 30\n",
      "Average Nll: 79.43467670016818\n",
      "Iteration: 40\n",
      "Average Nll: 84.88898764716254\n",
      "Iteration: 50\n",
      "Average Nll: 74.74217224121094\n",
      "Iteration: 60\n",
      "Average Nll: 74.61162990993924\n",
      "Iteration: 70\n",
      "Average Nll: 69.80481041802301\n",
      "Iteration: 80\n",
      "Average Nll: 70.16738234625922\n",
      "Iteration: 90\n",
      "Average Nll: 75.98890431722005\n",
      "Iteration: 100\n",
      "Average Nll: 81.37251154581706\n"
     ]
    },
    {
     "data": {
      "text/plain": [
       "<matplotlib.axes._subplots.AxesSubplot at 0x7f03c1604438>"
      ]
     },
     "execution_count": 15,
     "metadata": {},
     "output_type": "execute_result"
    },
    {
     "data": {
      "image/png": "[encoded data removed]",
      "text/plain": [
       "<Figure size 432x288 with 1 Axes>"
      ]
     },
     "metadata": {
      "needs_background": "light"
     },
     "output_type": "display_data"
    }
   ],
   "source": [
    "# Let's see how the nlls of the ladder graphs compare to \n",
    "# the trained on enzymes\n",
    "nlls = calc_nll(args_ladder, ladder_loader, rnn, output, train_dataset=\"enzymes_small\")\n",
    "plt.figure()\n",
    "sns.distplot(nlls, kde=True)"
   ]
  },
  {
   "cell_type": "code",
   "execution_count": 19,
   "metadata": {},
   "outputs": [
    {
     "name": "stdout",
     "output_type": "stream",
     "text": [
      "Average num nodes 15.99\n",
      "total graph num: 100\n",
      "max number node: 20\n",
      "max/min number edge: 83; 19\n",
      "max previous node: 20\n"
     ]
    }
   ],
   "source": [
    "# Now let's try using a different dataset on the same GraphRNN\n",
    "# trained on the enzyemes small dataset. By plotting the distribution\n",
    "# over the nlls of this test set from a different family, hopefully\n",
    "# we can see the success of the generative model\n",
    "args_caveman, graphs_caveman = get_graph_data(\"caveman_small\", isModelDataset=False)\n",
    "\n",
    "# Create dataset and dataloader object for the out of distribution ladder dataset\n",
    "# Note that instead of passing in args.max_prev_node, we pass in the saved max_prev_node\n",
    "# saved specifically for the enzyme dataset - hack to allow for GraphRNN to work on any dataset\n",
    "caveman_dataset = Graph_sequence_sampler_pytorch_rand(graphs_caveman,max_prev_node=max_prev_node,max_num_node=args_caveman.max_num_node)\n",
    "caveman_loader = torch.utils.data.DataLoader(caveman_dataset, batch_size=1, num_workers=args_caveman.num_workers)"
   ]
  },
  {
   "cell_type": "code",
   "execution_count": 20,
   "metadata": {},
   "outputs": [
    {
     "name": "stdout",
     "output_type": "stream",
     "text": [
      "./model_save/GraphRNN_RNN_enzymes_small_4_64_lstm_3000.dat\n",
      "model loaded!, epoch: 3000\n",
      "Iteration: 10\n",
      "Average Nll: 113.14893434524537\n",
      "Iteration: 20\n",
      "Average Nll: 112.75899436950684\n",
      "Iteration: 30\n",
      "Average Nll: 113.1734980392456\n",
      "Iteration: 40\n",
      "Average Nll: 113.36665554046631\n",
      "Iteration: 50\n",
      "Average Nll: 113.74079584121704\n",
      "Iteration: 60\n",
      "Average Nll: 113.96001651763916\n",
      "Iteration: 70\n",
      "Average Nll: 112.96768104553223\n",
      "Iteration: 80\n",
      "Average Nll: 116.68466108322144\n",
      "Iteration: 90\n",
      "Average Nll: 117.34124488830567\n",
      "Iteration: 100\n",
      "Average Nll: 114.21455732345581\n"
     ]
    },
    {
     "data": {
      "text/plain": [
       "<matplotlib.axes._subplots.AxesSubplot at 0x7f03c167e860>"
      ]
     },
     "execution_count": 20,
     "metadata": {},
     "output_type": "execute_result"
    },
    {
     "data": {
      "image/png": "[encoded data removed]",
      "text/plain": [
       "<Figure size 432x288 with 1 Axes>"
      ]
     },
     "metadata": {
      "needs_background": "light"
     },
     "output_type": "display_data"
    }
   ],
   "source": [
    "# Let's see how the nlls of the caveman graphs compare to \n",
    "# the trained on enzymes\n",
    "nlls = calc_nll(args_caveman, caveman_loader, rnn, output, train_dataset=\"enzymes_small\")\n",
    "plt.figure()\n",
    "sns.distplot(nlls, kde=True)"
   ]
  },
  {
   "cell_type": "code",
   "execution_count": null,
   "metadata": {},
   "outputs": [],
   "source": []
  }
 ],
 "metadata": {
  "kernelspec": {
   "display_name": "newenv",
   "language": "python",
   "name": "newenv"
  },
  "language_info": {
   "codemirror_mode": {
    "name": "ipython",
    "version": 3
   },
   "file_extension": ".py",
   "mimetype": "text/x-python",
   "name": "python",
   "nbconvert_exporter": "python",
   "pygments_lexer": "ipython3",
   "version": "3.7.3"
  }
 },
 "nbformat": 4,
 "nbformat_minor": 2
}
