{
 "cells": [
  {
   "cell_type": "markdown",
   "metadata": {},
   "source": [
    "# Notebook to Analyze the Efficacy of Generative Models for Anomaly Detection\n",
    "\n",
    "In this notebook we will look to use different generative models on graphs to learn distributions over normal graphs and hopefully detect some anomalies. We specifically start our experimentation looking at the GraphRNN framework implemented by the SNAP group"
   ]
  },
  {
   "cell_type": "code",
   "execution_count": 3,
   "metadata": {},
   "outputs": [
    {
     "name": "stdout",
     "output_type": "stream",
     "text": [
      "CUDA 1\n",
      "CUDA Available: True\n",
      "File name prefix GraphRNN_RNN_ladder_small_4_64_\n"
     ]
    }
   ],
   "source": [
    "# Fun some setup for the project\n",
    "# Silence annoying pytorch deprecated warnings\n",
    "import warnings\n",
    "warnings.filterwarnings(\"ignore\")\n",
    "\n",
    "from train import *\n",
    "%matplotlib inline\n",
    "\n",
    "device = torch.device('cuda:1' if torch.cuda.is_available() else 'cpu')\n",
    "\n",
    "# All necessary arguments are defined in args.py\n",
    "args = Args()\n",
    "os.environ['CUDA_VISIBLE_DEVICES'] = str(args.cuda)\n",
    "print('CUDA', args.cuda)\n",
    "print ('CUDA Available:', torch.cuda.is_available())\n",
    "print('File name prefix',args.fname)"
   ]
  },
  {
   "cell_type": "code",
   "execution_count": 4,
   "metadata": {},
   "outputs": [],
   "source": [
    "# Set the type of graph that we want to evaluate the log likelihoods of\n",
    "args.change_dataset(\"enzymes_small\")"
   ]
  },
  {
   "cell_type": "code",
   "execution_count": 5,
   "metadata": {},
   "outputs": [
    {
     "name": "stdout",
     "output_type": "stream",
     "text": [
      "Loading graph dataset: ENZYMES\n",
      "Loaded\n"
     ]
    }
   ],
   "source": [
    "# Load the graph data - Consider using presaved datasets! with graph load list\n",
    "graphs = create_graphs.create(args)\n",
    "\n",
    "# split datasets\n",
    "random.seed(123)\n",
    "shuffle(graphs)\n",
    "graphs_len = len(graphs)\n",
    "graphs_test = graphs[int(0.8 * graphs_len):]\n",
    "graphs_train = graphs[0:int(0.8*graphs_len)]\n",
    "graphs_validate = graphs[0:int(0.2*graphs_len)]"
   ]
  },
  {
   "cell_type": "code",
   "execution_count": 6,
   "metadata": {},
   "outputs": [
    {
     "name": "stdout",
     "output_type": "stream",
     "text": [
      "graph_validate_len 15.666666666666666\n",
      "graph_test_len 15.136363636363637\n",
      "total graph num: 109, training set: 87\n",
      "max number node: 20\n",
      "max/min number edge: 49; 17\n",
      "max previous node: 15\n"
     ]
    }
   ],
   "source": [
    "# Display some graph stats\n",
    "graph_validate_len = 0\n",
    "for graph in graphs_validate:\n",
    "    graph_validate_len += graph.number_of_nodes()\n",
    "graph_validate_len /= len(graphs_validate)\n",
    "print('graph_validate_len', graph_validate_len)\n",
    "\n",
    "graph_test_len = 0\n",
    "for graph in graphs_test:\n",
    "    graph_test_len += graph.number_of_nodes()\n",
    "graph_test_len /= len(graphs_test)\n",
    "print('graph_test_len', graph_test_len)\n",
    "\n",
    "\n",
    "args.max_num_node = max([graphs[i].number_of_nodes() for i in range(len(graphs))])\n",
    "max_num_edge = max([graphs[i].number_of_edges() for i in range(len(graphs))])\n",
    "min_num_edge = min([graphs[i].number_of_edges() for i in range(len(graphs))])\n",
    "\n",
    "# show graphs statistics\n",
    "print('total graph num: {}, training set: {}'.format(len(graphs),len(graphs_train)))\n",
    "print('max number node: {}'.format(args.max_num_node))\n",
    "print('max/min number edge: {}; {}'.format(max_num_edge,min_num_edge))\n",
    "print('max previous node: {}'.format(args.max_prev_node))"
   ]
  },
  {
   "cell_type": "code",
   "execution_count": 7,
   "metadata": {},
   "outputs": [],
   "source": [
    "# Initialize the dataset and dataloader for analyzing the nlls. \n",
    "# Note that we use batch_size = 1 because we want the nll for each\n",
    "# data point not an average across a batch.\n",
    "# We should also consider using Graph_sequence_Sampler_pytorch_nll.\n",
    "# This sampler expands the size of the dataset by for each graph \n",
    "# creating many different bfs permutations. The idea behind this sampler\n",
    "# is to test the models permutation invariance. \n",
    "\n",
    "train_dataset = Graph_sequence_sampler_pytorch(graphs_train,max_prev_node=args.max_prev_node,max_num_node=args.max_num_node)\n",
    "train_loader = torch.utils.data.DataLoader(train_dataset, batch_size=1, num_workers=args.num_workers)\n",
    "\n",
    "test_dataset = Graph_sequence_sampler_pytorch(graphs_test, max_prev_node=args.max_prev_node,max_num_node=args.max_num_node)\n",
    "test_loader = torch.utils.data.DataLoader(test_dataset, batch_size=1, num_workers=args.num_workers)\n",
    "\n"
   ]
  },
  {
   "cell_type": "code",
   "execution_count": 8,
   "metadata": {},
   "outputs": [],
   "source": [
    "# Model initialization\n",
    "# Using GraphRNN\n",
    "\n",
    "rnn = GRU_plain(input_size=args.max_prev_node, embedding_size=args.embedding_size_rnn,\n",
    "                        hidden_size=args.hidden_size_rnn, num_layers=args.num_layers, has_input=True,\n",
    "                        has_output=True, output_size=args.hidden_size_rnn_output).to(device)\n",
    "output = GRU_plain(input_size=1, embedding_size=args.embedding_size_rnn_output,\n",
    "                        hidden_size=args.hidden_size_rnn_output, num_layers=args.num_layers, has_input=True,\n",
    "                        has_output=True, output_size=1).to(device)"
   ]
  },
  {
   "cell_type": "code",
   "execution_count": 13,
   "metadata": {},
   "outputs": [],
   "source": [
    "# This function encapsulates the process of getting the loglikelihoods\n",
    "# of the data\n",
    "def calc_nll(args, data_loader, rnn, output, max_iter=100, load_epoch=3000):\n",
    "    \"\"\"\n",
    "        For now the max_iter is not used. However, the idea in the future\n",
    "        is to do max_iter loops of calculating the nlls of the data. Since\n",
    "        the model is permutation dependent, namely we use a random bfs ordering\n",
    "        for each graph when training/testing, we should do many iterations to\n",
    "        test the robustness of the model to permutation. This could also be\n",
    "        addressed using nll data_loader. \n",
    "    \"\"\"\n",
    "    # Set the epoch we are loading from\n",
    "    args.load_epoch = load_epoch\n",
    "    fname = args.model_save_path + args.fname + 'lstm_' + str(args.load_epoch) + '.dat'\n",
    "    rnn.load_state_dict(torch.load(fname))\n",
    "    fname = args.model_save_path + args.fname + 'output_' + str(args.load_epoch) + '.dat'\n",
    "    output.load_state_dict(torch.load(fname))\n",
    "\n",
    "    epoch = args.load_epoch\n",
    "    print('model loaded!, epoch: {}'.format(args.load_epoch))\n",
    "\n",
    "    # Calculate nll over dataset max_iter times,\n",
    "    # to test robustness to permutations of the bfs\n",
    "    # ordered adjacency matrix for the same graphs.\n",
    "    nlls = []\n",
    "    for i in range(max_iter):\n",
    "        nll = rnn_data_nll(args, rnn, output, data_loader)\n",
    "        # Logging info\n",
    "        # May want to also include std statistics\n",
    "        if (i + 1) % 10 == 0:\n",
    "            print (\"Iteration:\", i + 1)\n",
    "            print (\"Average Nll:\", np.mean(nll))\n",
    "            \n",
    "        nlls.extend(nll)\n",
    "        \n",
    "    return nlls"
   ]
  },
  {
   "cell_type": "code",
   "execution_count": 14,
   "metadata": {},
   "outputs": [
    {
     "name": "stdout",
     "output_type": "stream",
     "text": [
      "model loaded!, epoch: 3000\n",
      "Iteration: 9\n",
      "Average Nll: 27.181960089453334\n",
      "Iteration: 19\n",
      "Average Nll: 27.181960089453334\n",
      "Iteration: 29\n",
      "Average Nll: 27.181960089453334\n",
      "Iteration: 39\n",
      "Average Nll: 27.181960089453334\n",
      "Iteration: 49\n",
      "Average Nll: 27.181960089453334\n",
      "Iteration: 59\n",
      "Average Nll: 27.181960089453334\n",
      "Iteration: 69\n",
      "Average Nll: 27.181960089453334\n",
      "Iteration: 79\n",
      "Average Nll: 27.181960089453334\n",
      "Iteration: 89\n",
      "Average Nll: 27.181960089453334\n",
      "Iteration: 99\n",
      "Average Nll: 27.181960089453334\n"
     ]
    },
    {
     "data": {
      "text/plain": [
       "<matplotlib.axes._subplots.AxesSubplot at 0x7f08c5479438>"
      ]
     },
     "execution_count": 14,
     "metadata": {},
     "output_type": "execute_result"
    },
    {
     "data": {
      "image/png": "[encoded data removed]",
      "text/plain": [
       "<Figure size 432x288 with 1 Axes>"
      ]
     },
     "metadata": {
      "needs_background": "light"
     },
     "output_type": "display_data"
    }
   ],
   "source": [
    "# Let's do some analysis on the training data\n",
    "nlls = calc_nll(args, train_loader, rnn, output)\n",
    "plt.figure()\n",
    "sns.distplot(nlls, kde=True)\n",
    "#plt.xlim([0, 55])"
   ]
  },
  {
   "cell_type": "code",
   "execution_count": 18,
   "metadata": {},
   "outputs": [
    {
     "name": "stdout",
     "output_type": "stream",
     "text": [
      "model loaded!, epoch: 3000\n"
     ]
    },
    {
     "data": {
      "text/plain": [
       "<matplotlib.axes._subplots.AxesSubplot at 0x7ff1ccca3668>"
      ]
     },
     "execution_count": 18,
     "metadata": {},
     "output_type": "execute_result"
    },
    {
     "data": {
      "image/png": "[encoded data removed]",
      "text/plain": [
       "<Figure size 432x288 with 1 Axes>"
      ]
     },
     "metadata": {
      "needs_background": "light"
     },
     "output_type": "display_data"
    }
   ],
   "source": [
    "# Analysis of the test data set nlls.\n",
    "nlls = calc_nll(args, test_loader, rnn, output)\n",
    "plt.figure()\n",
    "sns.distplot(nlls, kde=True)"
   ]
  },
  {
   "cell_type": "code",
   "execution_count": null,
   "metadata": {},
   "outputs": [],
   "source": []
  }
 ],
 "metadata": {
  "kernelspec": {
   "display_name": "newenv",
   "language": "python",
   "name": "newenv"
  },
  "language_info": {
   "codemirror_mode": {
    "name": "ipython",
    "version": 3
   },
   "file_extension": ".py",
   "mimetype": "text/x-python",
   "name": "python",
   "nbconvert_exporter": "python",
   "pygments_lexer": "ipython3",
   "version": "3.7.3"
  }
 },
 "nbformat": 4,
 "nbformat_minor": 2
}
