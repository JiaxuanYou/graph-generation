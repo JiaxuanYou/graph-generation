{
 "cells": [
  {
   "cell_type": "code",
   "execution_count": 1,
   "metadata": {},
   "outputs": [
    {
     "name": "stdout",
     "output_type": "stream",
     "text": [
      "CUDA Available: True\n"
     ]
    }
   ],
   "source": [
    "# Fun some setup for the project\n",
    "# Silence annoying pytorch deprecated warnings\n",
    "import warnings\n",
    "warnings.filterwarnings(\"ignore\")\n",
    "\n",
    "from train import *\n",
    "from create_graphs import *\n",
    "%matplotlib inline\n",
    "\n",
    "print ('CUDA Available:', torch.cuda.is_available())"
   ]
  },
  {
   "cell_type": "code",
   "execution_count": 2,
   "metadata": {},
   "outputs": [
    {
     "name": "stdout",
     "output_type": "stream",
     "text": [
      "Loading graph dataset: ENZYMES\n",
      "Loaded\n",
      "Average num nodes 36.505050505050505\n",
      "total graph num: 99\n",
      "max number node: 125\n",
      "max/min number edge: 149; 26\n",
      "max previous node: 25\n"
     ]
    }
   ],
   "source": [
    "# Generate the model datasets (i.e. the dataset used to train\n",
    "# the model - normal data)\n",
    "args_enzy1, train_enzy1, val_enzy1, test_enzy1 = get_graph_data(\"enzymes_1\", isModelDataset=True)\n",
    "# Save the max_previous node to allow for model \n",
    "# compatability on future datasets\n",
    "max_prev_node = args_enzy1.max_prev_node"
   ]
  },
  {
   "cell_type": "code",
   "execution_count": null,
   "metadata": {},
   "outputs": [],
   "source": []
  }
 ],
 "metadata": {
  "kernelspec": {
   "display_name": "newenv",
   "language": "python",
   "name": "newenv"
  },
  "language_info": {
   "codemirror_mode": {
    "name": "ipython",
    "version": 3
   },
   "file_extension": ".py",
   "mimetype": "text/x-python",
   "name": "python",
   "nbconvert_exporter": "python",
   "pygments_lexer": "ipython3",
   "version": "3.7.3"
  }
 },
 "nbformat": 4,
 "nbformat_minor": 2
}
